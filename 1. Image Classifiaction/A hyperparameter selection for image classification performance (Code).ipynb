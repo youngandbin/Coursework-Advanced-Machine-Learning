{
 "cells": [
  {
   "cell_type": "code",
   "execution_count": 2,
   "metadata": {},
   "outputs": [],
   "source": [
    "import numpy as np\n",
    "import pandas as pd\n",
    "import matplotlib.pyplot as plt\n",
    "from tqdm import tqdm\n",
    "from datetime import datetime\n",
    "import wandb\n",
    "\n",
    "# data\n",
    "import torch\n",
    "from torchvision.datasets import CIFAR10, CIFAR100, FashionMNIST, Caltech256\n",
    "import torchvision.transforms as tt\n",
    "from torch.utils.data.sampler import SubsetRandomSampler\n",
    "\n",
    "# KNN\n",
    "from collections import Counter\n",
    "from scipy.spatial import distance\n",
    "\n",
    "# SVM\n",
    "from sklearn.svm import SVC\n",
    "from sklearn.model_selection import GridSearchCV\n",
    "# CNN\n",
    "\n",
    "# metric\n",
    "from sklearn.metrics import accuracy_score, classification_report\n",
    "\n",
    "# CV\n",
    "from sklearn.model_selection import ParameterGrid # creates a parameter grid to search for\n",
    "from sklearn.model_selection import KFold # splits data into k-fold train and valid set\n"
   ]
  },
  {
   "cell_type": "markdown",
   "metadata": {},
   "source": [
    "# 0.. data\n",
    "- CIFAR, fashion MNIST, Caltech-256"
   ]
  },
  {
   "cell_type": "code",
   "execution_count": 3,
   "metadata": {},
   "outputs": [],
   "source": [
    "random_seed = 2022\n",
    "valid_size = 0.1\n",
    "\n",
    "# define transforms\n",
    "\n",
    "stats = ((0.5074,0.4867,0.4411),(0.2011,0.1987,0.2025))\n",
    "\n",
    "train_transform = tt.Compose([\n",
    "    tt.RandomCrop(32, padding=4),\n",
    "    tt.RandomHorizontalFlip(),\n",
    "    tt.ToTensor(),\n",
    "    tt.Normalize(*stats),\n",
    "])\n",
    "\n",
    "test_transform = tt.Compose([\n",
    "    tt.ToTensor(),\n",
    "    tt.Normalize(*stats),\n",
    "])"
   ]
  },
  {
   "cell_type": "code",
   "execution_count": 4,
   "metadata": {},
   "outputs": [
    {
     "name": "stdout",
     "output_type": "stream",
     "text": [
      "Files already downloaded and verified\n",
      "Files already downloaded and verified\n",
      "Files already downloaded and verified\n"
     ]
    }
   ],
   "source": [
    "# load data\n",
    "\n",
    "train_data = CIFAR10(download=True, root=\"./data\", transform=train_transform)\n",
    "valid_data = CIFAR10(download=True, root=\"./data\", transform=test_transform)\n",
    "test_data = CIFAR10(download=True, root=\"./data\", transform=test_transform, train=False)"
   ]
  },
  {
   "cell_type": "code",
   "execution_count": 5,
   "metadata": {},
   "outputs": [],
   "source": [
    "# split train, valid\n",
    "\n",
    "num_train = len(train_data)\n",
    "indices = list(range(num_train))\n",
    "split = int(np.floor(valid_size * num_train)) \n",
    "\n",
    "# shuffle\n",
    "np.random.seed(random_seed)\n",
    "np.random.shuffle(indices)\n",
    "\n",
    "train_idx, valid_idx = indices[split:], indices[:split]\n",
    "train_sampler, valid_sampler = SubsetRandomSampler(train_idx), SubsetRandomSampler(valid_idx)  # 45000, 5000"
   ]
  },
  {
   "cell_type": "code",
   "execution_count": 6,
   "metadata": {},
   "outputs": [],
   "source": [
    "def get_data(train_size, valid_size, test_size):\n",
    "    \"\"\"\n",
    "    This function gets you data from DataLoader by iterating one batch.\n",
    "    :param train_size: number of data points in train set\n",
    "    :return: X and y for train, valid, test\n",
    "    \"\"\"\n",
    "    print('\\n getting dataset... \\n')\n",
    "\n",
    "    train_loader = torch.utils.data.DataLoader(\n",
    "        train_data, batch_size=train_size, sampler=train_sampler,\n",
    "        num_workers=4,\n",
    "    )\n",
    "    valid_loader = torch.utils.data.DataLoader(\n",
    "        valid_data, batch_size=valid_size, sampler=valid_sampler,\n",
    "        num_workers=4,\n",
    "    )\n",
    "    test_loader = torch.utils.data.DataLoader(\n",
    "        test_data, batch_size=test_size, shuffle=True,\n",
    "        num_workers=4,\n",
    "    )\n",
    "\n",
    "    for batch in train_loader:\n",
    "        X_train = batch[0].reshape(train_size, -1)  \n",
    "        y_train = batch[1]\n",
    "        break\n",
    "    for batch in valid_loader:\n",
    "        X_valid = batch[0].reshape(valid_size, -1)\n",
    "        y_valid = batch[1]\n",
    "        break\n",
    "    for batch in test_loader:\n",
    "        X_test = batch[0].reshape(test_size, -1)\n",
    "        y_test = batch[1]\n",
    "        break\n",
    "\n",
    "    return X_train, y_train, X_valid, y_valid, X_test, y_test\n",
    "\n"
   ]
  },
  {
   "cell_type": "markdown",
   "metadata": {},
   "source": [
    "# 1.. KNN"
   ]
  },
  {
   "cell_type": "code",
   "execution_count": 6,
   "metadata": {},
   "outputs": [],
   "source": [
    "class my_KNN:\n",
    "\n",
    "    def __init__(self, n_neighbors=3, distance=2):\n",
    "        self.n_neighbors = n_neighbors\n",
    "        self.distance = distance\n",
    "\n",
    "    def fit(self, X_train, y_train):\n",
    "        self.X_train = X_train\n",
    "        self.y_train = y_train\n",
    "        pass\n",
    "\n",
    "    def iterate_X_test(self, X_test):\n",
    "\n",
    "        y_pred = torch.stack([self.predict_x_test(x_test)\n",
    "                             for x_test in X_test])\n",
    "\n",
    "        return y_pred\n",
    "\n",
    "    def predict_x_test(self, x_test):\n",
    "\n",
    "        if self.distance == 2: # L2 distance\n",
    "            distance_list = [\n",
    "                np.linalg.norm(x_test-x_train) for x_train in self.X_train\n",
    "            ]\n",
    "        elif self.distance == 1: # L1 distance\n",
    "            distance_list = [\n",
    "                distance.cityblock(x_test, x_train) for x_train in self.X_train\n",
    "            ]\n",
    "        elif self.distance == 3: # minkowski distance\n",
    "            distance_list = [\n",
    "                distance.minkowski(x_test, x_train) for x_train in self.X_train\n",
    "            ]\n",
    "\n",
    "        distance_indices = np.argsort(distance_list)  # indices from min to max\n",
    "\n",
    "        top_k_labels = [\n",
    "            self.y_train[i] for i in distance_indices[:self.n_neighbors]\n",
    "        ]\n",
    "\n",
    "        voted_label = Counter(top_k_labels).most_common(1)[0][0]\n",
    "\n",
    "        return voted_label\n"
   ]
  },
  {
   "cell_type": "markdown",
   "metadata": {},
   "source": [
    "## A. Runtime & Accuracy"
   ]
  },
  {
   "cell_type": "code",
   "execution_count": 7,
   "metadata": {},
   "outputs": [
    {
     "name": "stderr",
     "output_type": "stream",
     "text": [
      "Failed to detect the name of this notebook, you can set it manually with the WANDB_NOTEBOOK_NAME environment variable to enable code saving.\n",
      "\u001b[34m\u001b[1mwandb\u001b[0m: Currently logged in as: \u001b[33myoungandbin\u001b[0m (use `wandb login --relogin` to force relogin)\n"
     ]
    },
    {
     "data": {
      "text/html": [
       "Tracking run with wandb version 0.12.11"
      ],
      "text/plain": [
       "<IPython.core.display.HTML object>"
      ]
     },
     "metadata": {},
     "output_type": "display_data"
    },
    {
     "data": {
      "text/html": [
       "Run data is saved locally in <code>c:\\Users\\YOUNGBIN\\Documents\\Jupyter Lab\\AML\\AML-CW-1\\wandb\\run-20220324_095457-190uahy5</code>"
      ],
      "text/plain": [
       "<IPython.core.display.HTML object>"
      ]
     },
     "metadata": {},
     "output_type": "display_data"
    },
    {
     "data": {
      "text/html": [
       "Syncing run <strong><a href=\"https://wandb.ai/youngandbin/AML-CW-1/runs/190uahy5\" target=\"_blank\">dandy-sky-30</a></strong> to <a href=\"https://wandb.ai/youngandbin/AML-CW-1\" target=\"_blank\">Weights & Biases</a> (<a href=\"https://wandb.me/run\" target=\"_blank\">docs</a>)<br/>"
      ],
      "text/plain": [
       "<IPython.core.display.HTML object>"
      ]
     },
     "metadata": {},
     "output_type": "display_data"
    }
   ],
   "source": [
    "wandb.init(project=\"AML-CW-1\", entity=\"youngandbin\")\n",
    "wandb.config = {\n",
    "    \"model_name\": 'KNN',\n",
    "    \"train_size\": [1000, 2000, 3000, 4000]\n",
    "}"
   ]
  },
  {
   "cell_type": "code",
   "execution_count": 8,
   "metadata": {},
   "outputs": [
    {
     "name": "stderr",
     "output_type": "stream",
     "text": [
      "  0%|          | 0/4 [00:00<?, ?it/s]"
     ]
    },
    {
     "name": "stdout",
     "output_type": "stream",
     "text": [
      "\n",
      " getting dataset... \n",
      "\n"
     ]
    },
    {
     "name": "stderr",
     "output_type": "stream",
     "text": [
      " 25%|██▌       | 1/4 [00:24<01:12, 24.11s/it]"
     ]
    },
    {
     "name": "stdout",
     "output_type": "stream",
     "text": [
      "acc: 0.31\n",
      "\n",
      " getting dataset... \n",
      "\n"
     ]
    },
    {
     "name": "stderr",
     "output_type": "stream",
     "text": [
      " 50%|█████     | 2/4 [00:49<00:50, 25.12s/it]"
     ]
    },
    {
     "name": "stdout",
     "output_type": "stream",
     "text": [
      "acc: 0.27\n",
      "\n",
      " getting dataset... \n",
      "\n"
     ]
    },
    {
     "name": "stderr",
     "output_type": "stream",
     "text": [
      " 75%|███████▌  | 3/4 [01:17<00:26, 26.11s/it]"
     ]
    },
    {
     "name": "stdout",
     "output_type": "stream",
     "text": [
      "acc: 0.25\n",
      "\n",
      " getting dataset... \n",
      "\n"
     ]
    },
    {
     "name": "stderr",
     "output_type": "stream",
     "text": [
      "100%|██████████| 4/4 [01:46<00:00, 26.60s/it]"
     ]
    },
    {
     "name": "stdout",
     "output_type": "stream",
     "text": [
      "acc: 0.21\n"
     ]
    },
    {
     "name": "stderr",
     "output_type": "stream",
     "text": [
      "\n"
     ]
    }
   ],
   "source": [
    "for train_size in tqdm(wandb.config['train_size']):\n",
    "\n",
    "    X_train, y_train, X_valid, y_valid, X_test, y_test = get_data(train_size, 100, 100)\n",
    "\n",
    "    model = my_KNN(n_neighbors=3, distance=1)\n",
    "    # train\n",
    "    start_time = datetime.now()\n",
    "    model.fit(X_train, y_train)\n",
    "    time_train = datetime.now() - start_time\n",
    "    # test\n",
    "    start_time = datetime.now()\n",
    "    y_pred = model.iterate_X_test(X_test)\n",
    "    time_test = datetime.now() - start_time\n",
    "    # runtime, accuracy\n",
    "    wandb.log({'Runtime (Train)': time_train.microseconds,\n",
    "               'Runtime (Test)': time_test.microseconds,\n",
    "                'Accuracy': accuracy_score(y_test, y_pred)})\n",
    "    print(f'acc: {accuracy_score(y_test, y_pred)}')\n"
   ]
  },
  {
   "cell_type": "markdown",
   "metadata": {},
   "source": [
    "## B. Hyperparameters\n",
    "1) n_neighbors (number of neighbors)\n",
    "    - np.arange(5,N,5) \n",
    "        - N: number of dataset\n",
    "    - 이웃을 많이 사용할 수록 복잡도가 낮아짐 (결정 경계가 부드러워짐)\n",
    "        - 머신러닝 책 p67\n",
    "2) distance (distance metric)\n",
    "    - L1, L2, minkowski"
   ]
  },
  {
   "cell_type": "code",
   "execution_count": 9,
   "metadata": {},
   "outputs": [],
   "source": [
    "def validate_model(hyperparams, dataset, CV=True):\n",
    "\n",
    "    X_train, y_train, X_valid, y_valid, X_test, y_test = dataset\n",
    "\n",
    "    # assign hyperparams\n",
    "    param_1, param_2 = hyperparams\n",
    "    \n",
    "    if CV == True:\n",
    "        # initialize final results\n",
    "        y_pred_list = []; y_valid_list = []\n",
    "        # cross-validation\n",
    "        X, y = X_train, y_train\n",
    "        kf = KFold(n_splits=5, shuffle=True, random_state=2022)\n",
    "        for train_idx, valid_idx in kf.split(X):\n",
    "            X_train, y_train = X[train_idx], y[train_idx]\n",
    "            X_valid, y_valid = X[valid_idx], y[valid_idx]\n",
    "            # model\n",
    "            model = my_KNN(n_neighbors=param_1, distance=param_2)\n",
    "            model.fit(X_train, y_train)\n",
    "            y_pred = model.iterate_X_test(X_valid) \n",
    "            y_pred_list.append(y_pred)\n",
    "            y_valid_list.append(y_valid)\n",
    "        # flatten list: number of predictions = train_size = train_size/n_splits * n_splits\n",
    "        y_pred_list = [item for sublist in y_pred_list for item in sublist]\n",
    "        y_valid_list = [item for sublist in y_valid_list for item in sublist]\n",
    "        # calculate acc metric\n",
    "        acc = accuracy_score(y_valid_list, y_pred_list)\n",
    "    else:\n",
    "        # model\n",
    "        model = my_KNN(n_neighbors=param_1, distance=param_2)\n",
    "        model.fit(X_train, y_train)\n",
    "        y_pred = model.iterate_X_test(X_valid) \n",
    "        # calculate acc metric\n",
    "        acc = accuracy_score(y_pred, y_valid)\n",
    "\n",
    "    return acc\n"
   ]
  },
  {
   "cell_type": "code",
   "execution_count": 10,
   "metadata": {},
   "outputs": [],
   "source": [
    "def create_hyperparams_grid(param_grid, model_params):\n",
    "    graph_x = []; graph_y = []; graph_z = []\n",
    "    for param_1 in tqdm(param_grid['param_1']):\n",
    "        graph_x_row = []; graph_y_row = []; graph_z_row = []\n",
    "        for param_2 in param_grid['param_2']:\n",
    "            hyperparams = (param_1, param_2)\n",
    "            acc = validate_model(hyperparams, model_params['dataset'], model_params['CV'])\n",
    "            graph_x_row.append(param_1)\n",
    "            graph_y_row.append(param_2)\n",
    "            graph_z_row.append(acc)\n",
    "        graph_x.append(graph_x_row)\n",
    "        graph_y.append(graph_y_row)\n",
    "        graph_z.append(graph_z_row)\n",
    "        print('')\n",
    "    graph_x=np.array(graph_x)\n",
    "    graph_y=np.array(graph_y)\n",
    "    graph_z=np.array(graph_z)\n",
    "    max_z = np.max(graph_z)\n",
    "    pos_max_z = np.argwhere(graph_z == np.max(graph_z))[0]\n",
    "    print('Maximum Accuracy: %.4f' %(max_z))\n",
    "    print('Optimum %s: %f' % (param_grid['names']['param_1'], graph_x[pos_max_z[0], pos_max_z[1]]))\n",
    "    print('Optimum %s: %f' % (param_grid['names']['param_2'], graph_y[pos_max_z[0], pos_max_z[1]]))\n",
    "    best_params = {'param_1': graph_x[pos_max_z[0], pos_max_z[1]],\n",
    "                   'param_2': graph_y[pos_max_z[0], pos_max_z[1]]}\n",
    "    return graph_x,graph_y,graph_z, best_params"
   ]
  },
  {
   "cell_type": "code",
   "execution_count": 11,
   "metadata": {},
   "outputs": [],
   "source": [
    "def plot_hyperparams_grid(graph_x, graph_y, graph_z, param_grid):\n",
    "    size_list=np.array(graph_z)\n",
    "    size_list=30/(size_list)**2\n",
    "    points=plt.scatter(graph_x, graph_y, c=graph_z, cmap='viridis', \n",
    "                       vmin=np.min(graph_z), vmax=np.max(graph_z), marker='o', s=size_list)\n",
    "    cbar=plt.colorbar(points)\n",
    "    cbar.set_label(\"$Accuracy$\", fontsize=14)\n",
    "    # plt.xlabel(r'${}$'.fotmat(param_grid['names']['param_1']), fontsize=14)\n",
    "    # plt.ylabel(r'${}$'.fotmat(param_grid['names']['param_2']), fontsize=14)\n",
    "    plt.xlabel(param_grid['names']['param_1'], fontsize=14)\n",
    "    plt.ylabel(param_grid['names']['param_2'], fontsize=14)\n",
    "    plt.yticks(graph_y[0])\n",
    "    file_name = 'Figure_hyperparams_grid.png'\n",
    "    plt.savefig(file_name,format='png',dpi=600)\n",
    "    plt.show()\n",
    "    #plt.close()"
   ]
  },
  {
   "cell_type": "code",
   "execution_count": 12,
   "metadata": {},
   "outputs": [],
   "source": [
    "def main():\n",
    "    # Create hyperparams grid\n",
    "    graph_x, graph_y, graph_z, best_params = create_hyperparams_grid(param_grid, model_params)\n",
    "    # Plot hyperparams_grid\n",
    "    plot_hyperparams_grid(graph_x,graph_y,graph_z, param_grid)\n",
    "\n",
    "    return best_params"
   ]
  },
  {
   "cell_type": "code",
   "execution_count": 13,
   "metadata": {},
   "outputs": [
    {
     "name": "stdout",
     "output_type": "stream",
     "text": [
      "\n",
      " getting dataset... \n",
      "\n"
     ]
    },
    {
     "name": "stderr",
     "output_type": "stream",
     "text": [
      " 33%|███▎      | 1/3 [00:04<00:08,  4.07s/it]"
     ]
    },
    {
     "name": "stdout",
     "output_type": "stream",
     "text": [
      "\n"
     ]
    },
    {
     "name": "stderr",
     "output_type": "stream",
     "text": [
      " 67%|██████▋   | 2/3 [00:08<00:04,  4.06s/it]"
     ]
    },
    {
     "name": "stdout",
     "output_type": "stream",
     "text": [
      "\n"
     ]
    },
    {
     "name": "stderr",
     "output_type": "stream",
     "text": [
      "100%|██████████| 3/3 [00:12<00:00,  4.04s/it]"
     ]
    },
    {
     "name": "stdout",
     "output_type": "stream",
     "text": [
      "\n",
      "Maximum Accuracy: 0.2000\n",
      "Optimum n_neighbors: 3.000000\n",
      "Optimum distance: 1.000000\n"
     ]
    },
    {
     "name": "stderr",
     "output_type": "stream",
     "text": [
      "\n"
     ]
    },
    {
     "data": {
      "image/png": "[encoded data removed]",
      "text/plain": [
       "<Figure size 432x288 with 2 Axes>"
      ]
     },
     "metadata": {
      "needs_background": "light"
     },
     "output_type": "display_data"
    }
   ],
   "source": [
    "# validation\n",
    "\n",
    "dataset = (get_data(train_size=1000, valid_size=100, test_size=100))  # tuple\n",
    "param_grid = {'param_1': [3, 5, 7],\n",
    "              'param_2': [1, 2, 3],\n",
    "              'names':{'param_1':'n_neighbors', 'param_2':'distance'}}\n",
    "model_params = {'dataset': dataset, 'CV': False}\n",
    "best_params_V = main()"
   ]
  },
  {
   "cell_type": "code",
   "execution_count": 14,
   "metadata": {},
   "outputs": [
    {
     "name": "stderr",
     "output_type": "stream",
     "text": [
      " 33%|███▎      | 1/3 [00:33<01:06, 33.48s/it]"
     ]
    },
    {
     "name": "stdout",
     "output_type": "stream",
     "text": [
      "\n"
     ]
    },
    {
     "name": "stderr",
     "output_type": "stream",
     "text": [
      " 67%|██████▋   | 2/3 [01:06<00:33, 33.33s/it]"
     ]
    },
    {
     "name": "stdout",
     "output_type": "stream",
     "text": [
      "\n"
     ]
    },
    {
     "name": "stderr",
     "output_type": "stream",
     "text": [
      "100%|██████████| 3/3 [01:39<00:00, 33.33s/it]"
     ]
    },
    {
     "name": "stdout",
     "output_type": "stream",
     "text": [
      "\n",
      "Maximum Accuracy: 0.1920\n",
      "Optimum n_neighbors: 3.000000\n",
      "Optimum distance: 1.000000\n"
     ]
    },
    {
     "name": "stderr",
     "output_type": "stream",
     "text": [
      "\n"
     ]
    },
    {
     "data": {
      "image/png": "[encoded data removed]",
      "text/plain": [
       "<Figure size 432x288 with 2 Axes>"
      ]
     },
     "metadata": {
      "needs_background": "light"
     },
     "output_type": "display_data"
    }
   ],
   "source": [
    "# cross-validation\n",
    "\n",
    "model_params['CV'] = True\n",
    "best_params_CV = main()\n"
   ]
  },
  {
   "cell_type": "code",
   "execution_count": 15,
   "metadata": {},
   "outputs": [
    {
     "name": "stdout",
     "output_type": "stream",
     "text": [
      "acc: 0.16\n",
      "acc: 0.16\n"
     ]
    }
   ],
   "source": [
    "# final test\n",
    "\n",
    "X_train, y_train, X_valid, y_valid, X_test, y_test = dataset\n",
    "\n",
    "\n",
    "# validation\n",
    "model = my_KNN(n_neighbors=best_params_V['param_1'], distance=best_params_V['param_2'])\n",
    "model.fit(X_train, y_train)\n",
    "y_pred = model.iterate_X_test(X_test)\n",
    "print(f'acc: {accuracy_score(y_test, y_pred)}')\n",
    "\n",
    "# cross-validation\n",
    "model = my_KNN(n_neighbors=best_params_CV['param_1'], distance=best_params_CV['param_2'])\n",
    "model.fit(X_train, y_train)\n",
    "y_pred = model.iterate_X_test(X_test)\n",
    "print(f'acc: {accuracy_score(y_test, y_pred)}')"
   ]
  },
  {
   "cell_type": "markdown",
   "metadata": {},
   "source": [
    "# 2.. SVM"
   ]
  },
  {
   "cell_type": "markdown",
   "metadata": {},
   "source": [
    "## A. Runtime & Accuracy"
   ]
  },
  {
   "cell_type": "code",
   "execution_count": 16,
   "metadata": {},
   "outputs": [
    {
     "data": {
      "text/html": [
       "Finishing last run (ID:190uahy5) before initializing another..."
      ],
      "text/plain": [
       "<IPython.core.display.HTML object>"
      ]
     },
     "metadata": {},
     "output_type": "display_data"
    },
    {
     "name": "stdout",
     "output_type": "stream",
     "text": [
      "\n"
     ]
    },
    {
     "data": {
      "text/html": [
       "Waiting for W&B process to finish... <strong style=\"color:green\">(success).</strong>"
      ],
      "text/plain": [
       "<IPython.core.display.HTML object>"
      ]
     },
     "metadata": {},
     "output_type": "display_data"
    },
    {
     "data": {
      "text/html": [
       "<style>\n",
       "    table.wandb td:nth-child(1) { padding: 0 10px; text-align: right }\n",
       "    .wandb-row { display: flex; flex-direction: row; flex-wrap: wrap; width: 100% }\n",
       "    .wandb-col { display: flex; flex-direction: column; flex-basis: 100%; flex: 1; padding: 10px; }\n",
       "    </style>\n",
       "<div class=\"wandb-row\"><div class=\"wandb-col\"><h3>Run history:</h3><br/><table class=\"wandb\"><tr><td>Accuracy</td><td>█▅▄▁</td></tr><tr><td>Runtime (Test)</td><td>▁▃▆█</td></tr><tr><td>Runtime (Train)</td><td>▁▁▁▁</td></tr></table><br/></div><div class=\"wandb-col\"><h3>Run summary:</h3><br/><table class=\"wandb\"><tr><td>Accuracy</td><td>0.21</td></tr><tr><td>Runtime (Test)</td><td>963891</td></tr><tr><td>Runtime (Train)</td><td>0</td></tr></table><br/></div></div>"
      ],
      "text/plain": [
       "<IPython.core.display.HTML object>"
      ]
     },
     "metadata": {},
     "output_type": "display_data"
    },
    {
     "data": {
      "text/html": [
       "Synced <strong style=\"color:#cdcd00\">dandy-sky-30</strong>: <a href=\"https://wandb.ai/youngandbin/AML-CW-1/runs/190uahy5\" target=\"_blank\">https://wandb.ai/youngandbin/AML-CW-1/runs/190uahy5</a><br/>Synced 6 W&B file(s), 0 media file(s), 0 artifact file(s) and 0 other file(s)"
      ],
      "text/plain": [
       "<IPython.core.display.HTML object>"
      ]
     },
     "metadata": {},
     "output_type": "display_data"
    },
    {
     "data": {
      "text/html": [
       "Find logs at: <code>.\\wandb\\run-20220324_095457-190uahy5\\logs</code>"
      ],
      "text/plain": [
       "<IPython.core.display.HTML object>"
      ]
     },
     "metadata": {},
     "output_type": "display_data"
    },
    {
     "data": {
      "text/html": [
       "Successfully finished last run (ID:190uahy5). Initializing new run:<br/>"
      ],
      "text/plain": [
       "<IPython.core.display.HTML object>"
      ]
     },
     "metadata": {},
     "output_type": "display_data"
    },
    {
     "data": {
      "text/html": [
       "Tracking run with wandb version 0.12.11"
      ],
      "text/plain": [
       "<IPython.core.display.HTML object>"
      ]
     },
     "metadata": {},
     "output_type": "display_data"
    },
    {
     "data": {
      "text/html": [
       "Run data is saved locally in <code>c:\\Users\\YOUNGBIN\\Documents\\Jupyter Lab\\AML\\AML-CW-1\\wandb\\run-20220324_100338-rrgr3exq</code>"
      ],
      "text/plain": [
       "<IPython.core.display.HTML object>"
      ]
     },
     "metadata": {},
     "output_type": "display_data"
    },
    {
     "data": {
      "text/html": [
       "Syncing run <strong><a href=\"https://wandb.ai/youngandbin/AML-CW-1/runs/rrgr3exq\" target=\"_blank\">unique-pond-31</a></strong> to <a href=\"https://wandb.ai/youngandbin/AML-CW-1\" target=\"_blank\">Weights & Biases</a> (<a href=\"https://wandb.me/run\" target=\"_blank\">docs</a>)<br/>"
      ],
      "text/plain": [
       "<IPython.core.display.HTML object>"
      ]
     },
     "metadata": {},
     "output_type": "display_data"
    }
   ],
   "source": [
    "wandb.init(project=\"AML-CW-1\", entity=\"youngandbin\")\n",
    "wandb.config = {\n",
    "    \"model_name\": 'SVM linear',\n",
    "    \"train_size\": [1000, 2000, 3000, 4000]\n",
    "}"
   ]
  },
  {
   "cell_type": "code",
   "execution_count": 17,
   "metadata": {},
   "outputs": [
    {
     "name": "stderr",
     "output_type": "stream",
     "text": [
      "  0%|          | 0/4 [00:00<?, ?it/s]"
     ]
    },
    {
     "name": "stdout",
     "output_type": "stream",
     "text": [
      "\n",
      " getting dataset... \n",
      "\n"
     ]
    },
    {
     "name": "stderr",
     "output_type": "stream",
     "text": [
      " 25%|██▌       | 1/4 [00:23<01:10, 23.66s/it]"
     ]
    },
    {
     "name": "stdout",
     "output_type": "stream",
     "text": [
      "acc: 0.24\n",
      "\n",
      " getting dataset... \n",
      "\n"
     ]
    },
    {
     "name": "stderr",
     "output_type": "stream",
     "text": [
      " 50%|█████     | 2/4 [00:50<00:50, 25.49s/it]"
     ]
    },
    {
     "name": "stdout",
     "output_type": "stream",
     "text": [
      "acc: 0.25\n",
      "\n",
      " getting dataset... \n",
      "\n"
     ]
    },
    {
     "name": "stderr",
     "output_type": "stream",
     "text": [
      " 75%|███████▌  | 3/4 [01:26<00:30, 30.48s/it]"
     ]
    },
    {
     "name": "stdout",
     "output_type": "stream",
     "text": [
      "acc: 0.29\n",
      "\n",
      " getting dataset... \n",
      "\n"
     ]
    },
    {
     "name": "stderr",
     "output_type": "stream",
     "text": [
      "100%|██████████| 4/4 [02:22<00:00, 35.53s/it]"
     ]
    },
    {
     "name": "stdout",
     "output_type": "stream",
     "text": [
      "acc: 0.3\n"
     ]
    },
    {
     "name": "stderr",
     "output_type": "stream",
     "text": [
      "\n"
     ]
    }
   ],
   "source": [
    "for train_size in tqdm(wandb.config['train_size']):\n",
    "\n",
    "    X_train, y_train, X_valid, y_valid, X_test, y_test = get_data(train_size, 100, 100)\n",
    "\n",
    "    model = SVC(kernel='linear')\n",
    "    # train\n",
    "    start_time = datetime.now()\n",
    "    model.fit(X_train, y_train)\n",
    "    time_train = datetime.now()-start_time\n",
    "    # test\n",
    "    start_time = datetime.now()\n",
    "    y_pred = model.predict(X_test)\n",
    "    time_test = datetime.now()-start_time\n",
    "    # runtime, accuracy\n",
    "    wandb.log({'Runtime (Train)': time_train.microseconds,\n",
    "               'Runtime (Test)': time_test.microseconds,\n",
    "                'Accuracy': accuracy_score(y_test, y_pred)})\n",
    "    print(f'acc: {accuracy_score(y_test, y_pred)}')"
   ]
  },
  {
   "cell_type": "code",
   "execution_count": 18,
   "metadata": {},
   "outputs": [
    {
     "data": {
      "text/html": [
       "Finishing last run (ID:rrgr3exq) before initializing another..."
      ],
      "text/plain": [
       "<IPython.core.display.HTML object>"
      ]
     },
     "metadata": {},
     "output_type": "display_data"
    },
    {
     "name": "stdout",
     "output_type": "stream",
     "text": [
      "\n"
     ]
    },
    {
     "data": {
      "text/html": [
       "Waiting for W&B process to finish... <strong style=\"color:green\">(success).</strong>"
      ],
      "text/plain": [
       "<IPython.core.display.HTML object>"
      ]
     },
     "metadata": {},
     "output_type": "display_data"
    },
    {
     "data": {
      "text/html": [
       "<style>\n",
       "    table.wandb td:nth-child(1) { padding: 0 10px; text-align: right }\n",
       "    .wandb-row { display: flex; flex-direction: row; flex-wrap: wrap; width: 100% }\n",
       "    .wandb-col { display: flex; flex-direction: column; flex-basis: 100%; flex: 1; padding: 10px; }\n",
       "    </style>\n",
       "<div class=\"wandb-row\"><div class=\"wandb-col\"><h3>Run history:</h3><br/><table class=\"wandb\"><tr><td>Accuracy</td><td>▁▂▇█</td></tr><tr><td>Runtime (Test)</td><td>▁▄▆█</td></tr><tr><td>Runtime (Train)</td><td>█▆▄▁</td></tr></table><br/></div><div class=\"wandb-col\"><h3>Run summary:</h3><br/><table class=\"wandb\"><tr><td>Accuracy</td><td>0.3</td></tr><tr><td>Runtime (Test)</td><td>501453</td></tr><tr><td>Runtime (Train)</td><td>40648</td></tr></table><br/></div></div>"
      ],
      "text/plain": [
       "<IPython.core.display.HTML object>"
      ]
     },
     "metadata": {},
     "output_type": "display_data"
    },
    {
     "data": {
      "text/html": [
       "Synced <strong style=\"color:#cdcd00\">unique-pond-31</strong>: <a href=\"https://wandb.ai/youngandbin/AML-CW-1/runs/rrgr3exq\" target=\"_blank\">https://wandb.ai/youngandbin/AML-CW-1/runs/rrgr3exq</a><br/>Synced 6 W&B file(s), 0 media file(s), 0 artifact file(s) and 0 other file(s)"
      ],
      "text/plain": [
       "<IPython.core.display.HTML object>"
      ]
     },
     "metadata": {},
     "output_type": "display_data"
    },
    {
     "data": {
      "text/html": [
       "Find logs at: <code>.\\wandb\\run-20220324_100338-rrgr3exq\\logs</code>"
      ],
      "text/plain": [
       "<IPython.core.display.HTML object>"
      ]
     },
     "metadata": {},
     "output_type": "display_data"
    },
    {
     "data": {
      "text/html": [
       "Successfully finished last run (ID:rrgr3exq). Initializing new run:<br/>"
      ],
      "text/plain": [
       "<IPython.core.display.HTML object>"
      ]
     },
     "metadata": {},
     "output_type": "display_data"
    },
    {
     "data": {
      "text/html": [
       "Tracking run with wandb version 0.12.11"
      ],
      "text/plain": [
       "<IPython.core.display.HTML object>"
      ]
     },
     "metadata": {},
     "output_type": "display_data"
    },
    {
     "data": {
      "text/html": [
       "Run data is saved locally in <code>c:\\Users\\YOUNGBIN\\Documents\\Jupyter Lab\\AML\\AML-CW-1\\wandb\\run-20220324_100609-1bmnetly</code>"
      ],
      "text/plain": [
       "<IPython.core.display.HTML object>"
      ]
     },
     "metadata": {},
     "output_type": "display_data"
    },
    {
     "data": {
      "text/html": [
       "Syncing run <strong><a href=\"https://wandb.ai/youngandbin/AML-CW-1/runs/1bmnetly\" target=\"_blank\">earnest-wood-32</a></strong> to <a href=\"https://wandb.ai/youngandbin/AML-CW-1\" target=\"_blank\">Weights & Biases</a> (<a href=\"https://wandb.me/run\" target=\"_blank\">docs</a>)<br/>"
      ],
      "text/plain": [
       "<IPython.core.display.HTML object>"
      ]
     },
     "metadata": {},
     "output_type": "display_data"
    }
   ],
   "source": [
    "wandb.init(project=\"AML-CW-1\", entity=\"youngandbin\")\n",
    "wandb.config = {\n",
    "    \"model_name\": 'SVM nonlinear',\n",
    "    \"train_size\": [1000, 2000, 3000, 4000]\n",
    "}"
   ]
  },
  {
   "cell_type": "code",
   "execution_count": 19,
   "metadata": {},
   "outputs": [
    {
     "name": "stderr",
     "output_type": "stream",
     "text": [
      "  0%|          | 0/4 [00:00<?, ?it/s]"
     ]
    },
    {
     "name": "stdout",
     "output_type": "stream",
     "text": [
      "\n",
      " getting dataset... \n",
      "\n"
     ]
    },
    {
     "name": "stderr",
     "output_type": "stream",
     "text": [
      " 25%|██▌       | 1/4 [00:23<01:10, 23.35s/it]"
     ]
    },
    {
     "name": "stdout",
     "output_type": "stream",
     "text": [
      "acc: 0.28\n",
      "\n",
      " getting dataset... \n",
      "\n"
     ]
    },
    {
     "name": "stderr",
     "output_type": "stream",
     "text": [
      " 50%|█████     | 2/4 [00:49<00:50, 25.17s/it]"
     ]
    },
    {
     "name": "stdout",
     "output_type": "stream",
     "text": [
      "acc: 0.32\n",
      "\n",
      " getting dataset... \n",
      "\n"
     ]
    },
    {
     "name": "stderr",
     "output_type": "stream",
     "text": [
      " 75%|███████▌  | 3/4 [01:26<00:30, 30.24s/it]"
     ]
    },
    {
     "name": "stdout",
     "output_type": "stream",
     "text": [
      "acc: 0.38\n",
      "\n",
      " getting dataset... \n",
      "\n"
     ]
    },
    {
     "name": "stderr",
     "output_type": "stream",
     "text": [
      "100%|██████████| 4/4 [02:19<00:00, 34.79s/it]"
     ]
    },
    {
     "name": "stdout",
     "output_type": "stream",
     "text": [
      "acc: 0.4\n"
     ]
    },
    {
     "name": "stderr",
     "output_type": "stream",
     "text": [
      "\n"
     ]
    }
   ],
   "source": [
    "for train_size in tqdm(wandb.config['train_size']):\n",
    "\n",
    "    X_train, y_train, X_valid, y_valid, X_test, y_test = get_data(train_size, 100, 100)\n",
    "\n",
    "    model = SVC(kernel='rbf')\n",
    "    # train\n",
    "    start_time = datetime.now()\n",
    "    model.fit(X_train, y_train)\n",
    "    time_train = datetime.now()-start_time\n",
    "    # test\n",
    "    start_time = datetime.now()\n",
    "    y_pred = model.predict(X_test)\n",
    "    time_test = datetime.now()-start_time\n",
    "    # runtime, accuracy\n",
    "    wandb.log({'Runtime (Train)': time_train.microseconds,\n",
    "               'Runtime (Test)': time_test.microseconds,\n",
    "               'Accuracy': accuracy_score(y_test, y_pred)})\n",
    "    print(f'acc: {accuracy_score(y_test, y_pred)}')\n"
   ]
  },
  {
   "cell_type": "markdown",
   "metadata": {},
   "source": [
    "## B. Hyperparameters\n",
    "[linear]\n",
    "1. C\n",
    "    - 10 ~ 30000\n",
    "\n",
    "[nonlinear]\n",
    "1. C\n",
    "    - 1 ~ 1000\n",
    "2. gamma\n",
    "    - 0.01 ~ 3"
   ]
  },
  {
   "cell_type": "code",
   "execution_count": 20,
   "metadata": {},
   "outputs": [],
   "source": [
    "param_grid = [\n",
    "    {'kernel': ['linear'], 'C': [10., 30., 100.]},\n",
    "    {'kernel': ['rbf'], 'C': [1.0, 3.0, 10.],\n",
    "                        'gamma': [0.01, 0.03, 0.1]},\n",
    "]"
   ]
  },
  {
   "cell_type": "markdown",
   "metadata": {},
   "source": [
    "### (1) linear"
   ]
  },
  {
   "cell_type": "code",
   "execution_count": 21,
   "metadata": {},
   "outputs": [],
   "source": [
    "def validate_model_SVM_linear(hyperparams, dataset, CV=True):\n",
    "\n",
    "    X_train, y_train, X_valid, y_valid, X_test, y_test = dataset\n",
    "\n",
    "    # assign hyperparams\n",
    "    param_1, param_2 = hyperparams\n",
    "\n",
    "    if CV == True:\n",
    "        # initialize final results\n",
    "        y_pred_list = []\n",
    "        y_valid_list = []\n",
    "        # cross-validation\n",
    "        X, y = X_train, y_train\n",
    "        kf = KFold(n_splits=5, shuffle=True, random_state=2022)\n",
    "        for train_idx, valid_idx in kf.split(X):\n",
    "            X_train, y_train = X[train_idx], y[train_idx]\n",
    "            X_valid, y_valid = X[valid_idx], y[valid_idx]\n",
    "            # model\n",
    "            model = SVC(C=param_1, kernel='linear')\n",
    "            model.fit(X_train, y_train)\n",
    "            y_pred = model.predict(X_valid)\n",
    "            y_pred_list.append(y_pred)\n",
    "            y_valid_list.append(y_valid)\n",
    "        # flatten list: number of predictions = train_size = train_size/n_splits * n_splits\n",
    "        y_pred_list = [item for sublist in y_pred_list for item in sublist]\n",
    "        y_valid_list = [item for sublist in y_valid_list for item in sublist]\n",
    "        # calculate acc metric\n",
    "        acc = accuracy_score(y_valid_list, y_pred_list)\n",
    "    else:\n",
    "        # model\n",
    "        model = SVC(C=param_1, kernel='linear')\n",
    "        model.fit(X_train, y_train)\n",
    "        y_pred = model.predict(X_valid)\n",
    "        # calculate acc metric\n",
    "        acc = accuracy_score(y_pred, y_valid)\n",
    "\n",
    "    return acc"
   ]
  },
  {
   "cell_type": "code",
   "execution_count": 22,
   "metadata": {},
   "outputs": [],
   "source": [
    "def create_hyperparams_grid(param_grid, model_params):\n",
    "    graph_x = []; graph_y = []; graph_z = []\n",
    "    for param_1 in param_grid['param_1']:\n",
    "        graph_x_row = []; graph_y_row = []; graph_z_row = []\n",
    "        for param_2 in param_grid['param_2']:\n",
    "            hyperparams = (param_1, param_2)\n",
    "            acc = validate_model_SVM_linear(hyperparams, model_params['dataset'], model_params['CV'])\n",
    "            graph_x_row.append(param_1)\n",
    "            graph_y_row.append(param_2)\n",
    "            graph_z_row.append(acc)\n",
    "        graph_x.append(graph_x_row)\n",
    "        graph_y.append(graph_y_row)\n",
    "        graph_z.append(graph_z_row)\n",
    "        print('')\n",
    "    graph_x=np.array(graph_x)\n",
    "    graph_y=np.array(graph_y)\n",
    "    graph_z=np.array(graph_z)\n",
    "    max_z = np.max(graph_z)\n",
    "    pos_max_z = np.argwhere(graph_z == np.max(graph_z))[0]\n",
    "    print('Maximum Accuracy: %.4f' %(max_z))\n",
    "    print('Optimum %s: %f' % (param_grid['names']['param_1'], graph_x[pos_max_z[0], pos_max_z[1]]))\n",
    "    print('Optimum %s: %f' % (param_grid['names']['param_2'], graph_y[pos_max_z[0], pos_max_z[1]]))\n",
    "    best_params = {'param_1': graph_x[pos_max_z[0], pos_max_z[1]],\n",
    "                   'param_2': graph_y[pos_max_z[0], pos_max_z[1]]}\n",
    "    return graph_x,graph_y,graph_z, best_params"
   ]
  },
  {
   "cell_type": "code",
   "execution_count": 23,
   "metadata": {},
   "outputs": [
    {
     "name": "stdout",
     "output_type": "stream",
     "text": [
      "\n",
      " getting dataset... \n",
      "\n",
      "\n",
      "\n",
      "\n",
      "Maximum Accuracy: 0.2500\n",
      "Optimum C: 1.000000\n",
      "Optimum kernel: 1.000000\n"
     ]
    },
    {
     "data": {
      "image/png": "[encoded data removed]",
      "text/plain": [
       "<Figure size 432x288 with 2 Axes>"
      ]
     },
     "metadata": {
      "needs_background": "light"
     },
     "output_type": "display_data"
    }
   ],
   "source": [
    "# validation\n",
    "\n",
    "dataset = (get_data(train_size=1000, valid_size=100, test_size=100))  # tuple\n",
    "param_grid = {'param_1': [1., 10., 30.],\n",
    "              'param_2': [1],\n",
    "              'names':{'param_1':'C', 'param_2':'kernel'}}\n",
    "model_params = {'dataset': dataset, 'CV': False}\n",
    "best_params_V = main()"
   ]
  },
  {
   "cell_type": "code",
   "execution_count": 24,
   "metadata": {},
   "outputs": [
    {
     "name": "stdout",
     "output_type": "stream",
     "text": [
      "\n",
      "\n",
      "\n",
      "Maximum Accuracy: 0.2360\n",
      "Optimum C: 1.000000\n",
      "Optimum kernel: 1.000000\n"
     ]
    },
    {
     "data": {
      "image/png": "[encoded data removed]",
      "text/plain": [
       "<Figure size 432x288 with 2 Axes>"
      ]
     },
     "metadata": {
      "needs_background": "light"
     },
     "output_type": "display_data"
    }
   ],
   "source": [
    "# cross-validation\n",
    "\n",
    "model_params['CV'] = True\n",
    "best_params_CV = main()\n"
   ]
  },
  {
   "cell_type": "code",
   "execution_count": 25,
   "metadata": {},
   "outputs": [
    {
     "name": "stdout",
     "output_type": "stream",
     "text": [
      "acc: 0.33\n",
      "acc: 0.33\n"
     ]
    }
   ],
   "source": [
    "# final test\n",
    "\n",
    "X_train, y_train, X_valid, y_valid, X_test, y_test = dataset\n",
    "\n",
    "# validation\n",
    "model = SVC(C=best_params_V['param_1'], kernel='linear')\n",
    "model.fit(X_train, y_train)\n",
    "y_pred = model.predict(X_test)\n",
    "print(f'acc: {accuracy_score(y_test, y_pred)}')\n",
    "\n",
    "# cross-validation\n",
    "model = SVC(C=best_params_CV['param_1'], kernel='linear')\n",
    "model.fit(X_train, y_train)\n",
    "y_pred = model.predict(X_test)\n",
    "print(f'acc: {accuracy_score(y_test, y_pred)}')"
   ]
  },
  {
   "cell_type": "markdown",
   "metadata": {},
   "source": [
    "### (2) nonlinear"
   ]
  },
  {
   "cell_type": "code",
   "execution_count": 40,
   "metadata": {},
   "outputs": [],
   "source": [
    "def validate_model_SVM_nonlinear(hyperparams, dataset, CV=True):\n",
    "\n",
    "    X_train, y_train, X_valid, y_valid, X_test, y_test = dataset\n",
    "\n",
    "    # assign hyperparams\n",
    "    param_1, param_2 = hyperparams\n",
    "\n",
    "    if CV == True:\n",
    "        # initialize final results\n",
    "        y_pred_list = []\n",
    "        y_valid_list = []\n",
    "        # cross-validation\n",
    "        X, y = X_train, y_train\n",
    "        kf = KFold(n_splits=5, shuffle=True, random_state=2022)\n",
    "        for train_idx, valid_idx in kf.split(X):\n",
    "            X_train, y_train = X[train_idx], y[train_idx]\n",
    "            X_valid, y_valid = X[valid_idx], y[valid_idx]\n",
    "            # model\n",
    "            model = SVC(C=param_1, gamma=param_2, kernel='rbf')\n",
    "            model.fit(X_train, y_train)\n",
    "            y_pred = model.predict(X_valid)\n",
    "            y_pred_list.append(y_pred)\n",
    "            y_valid_list.append(y_valid)\n",
    "        # flatten list: number of predictions = train_size = train_size/n_splits * n_splits\n",
    "        y_pred_list = [item for sublist in y_pred_list for item in sublist]\n",
    "        y_valid_list = [item for sublist in y_valid_list for item in sublist]\n",
    "        # calculate acc metric\n",
    "        acc = accuracy_score(y_valid_list, y_pred_list)\n",
    "    else:\n",
    "        # model\n",
    "        model = SVC(C=param_1, gamma=param_2)\n",
    "        model.fit(X_train, y_train)\n",
    "        y_pred = model.predict(X_valid)\n",
    "        # calculate acc metric\n",
    "        acc = accuracy_score(y_pred, y_valid)\n",
    "\n",
    "    return acc\n"
   ]
  },
  {
   "cell_type": "code",
   "execution_count": 41,
   "metadata": {},
   "outputs": [],
   "source": [
    "def create_hyperparams_grid(param_grid, model_params):\n",
    "    graph_x = []; graph_y = []; graph_z = []\n",
    "    for param_1 in param_grid['param_1']:\n",
    "        graph_x_row = []; graph_y_row = []; graph_z_row = []\n",
    "        for param_2 in param_grid['param_2']:\n",
    "            hyperparams = (param_1, param_2)\n",
    "            acc = validate_model_SVM_nonlinear(hyperparams, model_params['dataset'], model_params['CV'])\n",
    "            graph_x_row.append(param_1)\n",
    "            graph_y_row.append(param_2)\n",
    "            graph_z_row.append(acc)\n",
    "        graph_x.append(graph_x_row)\n",
    "        graph_y.append(graph_y_row)\n",
    "        graph_z.append(graph_z_row)\n",
    "        print('')\n",
    "    graph_x=np.array(graph_x)\n",
    "    graph_y=np.array(graph_y)\n",
    "    graph_z=np.array(graph_z)\n",
    "    max_z = np.max(graph_z)\n",
    "    pos_max_z = np.argwhere(graph_z == np.max(graph_z))[0]\n",
    "    print('Maximum Accuracy: %.4f' %(max_z))\n",
    "    print('Optimum %s: %f' % (param_grid['names']['param_1'], graph_x[pos_max_z[0], pos_max_z[1]]))\n",
    "    print('Optimum %s: %f' % (param_grid['names']['param_2'], graph_y[pos_max_z[0], pos_max_z[1]]))\n",
    "    best_params = {'param_1': graph_x[pos_max_z[0], pos_max_z[1]],\n",
    "                   'param_2': graph_y[pos_max_z[0], pos_max_z[1]]}\n",
    "    return graph_x,graph_y,graph_z, best_params"
   ]
  },
  {
   "cell_type": "code",
   "execution_count": 42,
   "metadata": {},
   "outputs": [
    {
     "name": "stdout",
     "output_type": "stream",
     "text": [
      "\n",
      " getting dataset... \n",
      "\n",
      "\n",
      "\n",
      "\n",
      "Maximum Accuracy: 0.3800\n",
      "Optimum C: 10.000000\n",
      "Optimum gamma: 0.000100\n"
     ]
    },
    {
     "data": {
      "image/png": "[encoded data removed]",
      "text/plain": [
       "<Figure size 432x288 with 2 Axes>"
      ]
     },
     "metadata": {
      "needs_background": "light"
     },
     "output_type": "display_data"
    }
   ],
   "source": [
    "# validation\n",
    "\n",
    "dataset = (get_data(train_size=1000, valid_size=100, test_size=100))  # tuple\n",
    "param_grid = {'param_1': [10, 30, 100.],\n",
    "              'param_2': [0.01, 0.001, 0.0001],\n",
    "              'names': {'param_1': 'C', 'param_2': 'gamma'}}\n",
    "model_params = {'dataset': dataset, 'CV': False}\n",
    "best_params_V = main()\n"
   ]
  },
  {
   "cell_type": "code",
   "execution_count": 43,
   "metadata": {},
   "outputs": [
    {
     "name": "stdout",
     "output_type": "stream",
     "text": [
      "\n",
      "\n",
      "\n",
      "Maximum Accuracy: 0.2530\n",
      "Optimum C: 30.000000\n",
      "Optimum gamma: 0.000100\n"
     ]
    },
    {
     "data": {
      "image/png": "[encoded data removed]",
      "text/plain": [
       "<Figure size 432x288 with 2 Axes>"
      ]
     },
     "metadata": {
      "needs_background": "light"
     },
     "output_type": "display_data"
    }
   ],
   "source": [
    "# cross-validation\n",
    "\n",
    "model_params['CV'] = True\n",
    "best_params_CV = main()\n"
   ]
  },
  {
   "cell_type": "code",
   "execution_count": 44,
   "metadata": {},
   "outputs": [
    {
     "name": "stdout",
     "output_type": "stream",
     "text": [
      "acc: 0.31\n",
      "acc: 0.33\n"
     ]
    }
   ],
   "source": [
    "# final test\n",
    "\n",
    "X_train, y_train, X_valid, y_valid, X_test, y_test = dataset\n",
    "\n",
    "# validation\n",
    "model = SVC(C=best_params_V['param_1'], gamma=best_params_V['param_2'], kernel='rbf')\n",
    "model.fit(X_train, y_train)\n",
    "y_pred = model.predict(X_test)\n",
    "print(f'acc: {accuracy_score(y_test, y_pred)}')\n",
    "\n",
    "# cross-validation\n",
    "model = SVC(C=best_params_CV['param_1'], gamma=best_params_CV['param_2'], kernel='rbf')\n",
    "model.fit(X_train, y_train)\n",
    "y_pred = model.predict(X_test)\n",
    "print(f'acc: {accuracy_score(y_test, y_pred)}')\n"
   ]
  },
  {
   "cell_type": "markdown",
   "metadata": {},
   "source": [
    "# 3.. Decision Tree"
   ]
  },
  {
   "cell_type": "code",
   "execution_count": 7,
   "metadata": {},
   "outputs": [],
   "source": [
    "def GINI_impurity(labels):\n",
    "    nums = [i[1] for i in Counter(labels).items()] # number of samples for each label\n",
    "    impurity = 1 - np.sum(list(map(lambda x: np.square(x/np.sum(nums)), nums)))\n",
    "    return impurity"
   ]
  },
  {
   "cell_type": "code",
   "execution_count": 8,
   "metadata": {},
   "outputs": [],
   "source": [
    "class Node:\n",
    "\n",
    "    def __init__(self, feature=None, threshold=None, left=None, right=None, y_pred=None):\n",
    "        self.feature = feature\n",
    "        self.threshold = threshold\n",
    "        self.left = left\n",
    "        self.right = right\n",
    "        self.y_pred = y_pred\n",
    "\n",
    "    def is_leaf_node(self):\n",
    "        \"\"\"\n",
    "        if 'y_pred' exists, the node is a leaf node\n",
    "        \"\"\"\n",
    "        return self.y_pred is not None\n",
    "\n",
    "class DecisionTree:\n",
    "\n",
    "    def __init__(self, min_samples_split=2, max_depth=100, n_feats=None):\n",
    "        self.min_samples_split = min_samples_split\n",
    "        self.max_depth = max_depth\n",
    "        self.n_feats = n_feats\n",
    "        self.root = None\n",
    "    \n",
    "    def fit(self, X, y):\n",
    "        # if n_feats not specified, it will go through all features in greedy_search\n",
    "        self.n_feats = X.shape[1] if not self.n_feats else min(self.n_feats, X.shape[1])\n",
    "        self.root = self._grow_tree(X, y)\n",
    "        \n",
    "    def _grow_tree(self, X, y, depth=0):\n",
    "        n_samples, n_features = X.shape\n",
    "\n",
    "        # stop and return a leaf node with y_pred\n",
    "        if depth >= self.max_depth:\n",
    "            return Node(y_pred = np.bincount(y).argmax())\n",
    "        if n_samples < self.min_samples_split:\n",
    "            return Node(y_pred = np.bincount(y).argmax())\n",
    "        if len(np.unique(y)) == 1:# when there is only 1 label left\n",
    "            return Node(y_pred = np.bincount(y).argmax())\n",
    "\n",
    "        # random forest\n",
    "\n",
    "        indices = np.random.choice(n_features, self.n_feats, replace=False)\n",
    "        best_feature, best_split = self._greedy_search(X, y, indices)   \n",
    "        # split tree \n",
    "        left_idxs, right_idxs = np.argwhere(X[:, best_feature] <= best_split).flatten(), np.argwhere(X[:, best_feature] > best_split).flatten()\n",
    "        left = self._grow_tree(X[left_idxs, :], y[left_idxs], depth+1)\n",
    "        right = self._grow_tree(X[right_idxs, :], y[right_idxs], depth+1)\n",
    "\n",
    "        return Node(best_feature, best_split, left, right)\n",
    "        \n",
    "    def _greedy_search(self, X, y, indices):\n",
    "        \"\"\"\n",
    "        loop over features to find the best feature and best split\n",
    "        \"\"\"\n",
    "        best_gain = -1\n",
    "        for i in indices:\n",
    "            X_i = X[:, i] # one feature\n",
    "            thresholds = np.unique(X_i)\n",
    "            for t in thresholds:\n",
    "                gain = self._information_gain(y, X_i, t)\n",
    "                if gain > best_gain:\n",
    "                    best_gain = gain\n",
    "                    feature = i\n",
    "                    split = t\n",
    "        return feature, split\n",
    "\n",
    "    def _information_gain(self, y, X_i, split):\n",
    "        # parent impurity\n",
    "        parent_impurity = GINI_impurity(y)\n",
    "        # child impurity (weighted avg)\n",
    "        left_idxs, right_idxs = np.argwhere(X_i <= split).flatten(), np.argwhere(X_i > split).flatten()\n",
    "        n_total, n_left, n_right = len(y), len(left_idxs), len(right_idxs)\n",
    "        child_impurity = (n_left/n_total)*GINI_impurity(y[left_idxs]) + (n_right/n_total)*GINI_impurity(y[right_idxs])\n",
    "        # information gain\n",
    "        return parent_impurity - child_impurity\n",
    "\n",
    "    \n",
    "    def predict(self, X):\n",
    "        # traverse tree\n",
    "        return np.array([self._traverse_tree(x, self.root) for x in X])\n",
    "    \n",
    "    def _traverse_tree(self, x, node):\n",
    "        if node.is_leaf_node():\n",
    "            return node.y_pred\n",
    "        \n",
    "        if x[node.feature] <= node.threshold:\n",
    "            return self._traverse_tree(x, node.left)\n",
    "        else:\n",
    "            return self._traverse_tree(x, node.right)"
   ]
  },
  {
   "cell_type": "markdown",
   "metadata": {},
   "source": [
    "## A. Runtime & Accuracy"
   ]
  },
  {
   "cell_type": "code",
   "execution_count": 47,
   "metadata": {},
   "outputs": [
    {
     "data": {
      "text/html": [
       "Finishing last run (ID:1bmnetly) before initializing another..."
      ],
      "text/plain": [
       "<IPython.core.display.HTML object>"
      ]
     },
     "metadata": {},
     "output_type": "display_data"
    },
    {
     "name": "stdout",
     "output_type": "stream",
     "text": [
      "\n"
     ]
    },
    {
     "data": {
      "text/html": [
       "Waiting for W&B process to finish... <strong style=\"color:green\">(success).</strong>"
      ],
      "text/plain": [
       "<IPython.core.display.HTML object>"
      ]
     },
     "metadata": {},
     "output_type": "display_data"
    },
    {
     "data": {
      "text/html": [
       "<style>\n",
       "    table.wandb td:nth-child(1) { padding: 0 10px; text-align: right }\n",
       "    .wandb-row { display: flex; flex-direction: row; flex-wrap: wrap; width: 100% }\n",
       "    .wandb-col { display: flex; flex-direction: column; flex-basis: 100%; flex: 1; padding: 10px; }\n",
       "    </style>\n",
       "<div class=\"wandb-row\"><div class=\"wandb-col\"><h3>Run history:</h3><br/><table class=\"wandb\"><tr><td>Accuracy</td><td>▁▃▇█</td></tr><tr><td>Runtime (Test)</td><td>▁▃▅█</td></tr><tr><td>Runtime (Train)</td><td>▇▁█▃</td></tr></table><br/></div><div class=\"wandb-col\"><h3>Run summary:</h3><br/><table class=\"wandb\"><tr><td>Accuracy</td><td>0.4</td></tr><tr><td>Runtime (Test)</td><td>795797</td></tr><tr><td>Runtime (Train)</td><td>338104</td></tr></table><br/></div></div>"
      ],
      "text/plain": [
       "<IPython.core.display.HTML object>"
      ]
     },
     "metadata": {},
     "output_type": "display_data"
    },
    {
     "data": {
      "text/html": [
       "Synced <strong style=\"color:#cdcd00\">earnest-wood-32</strong>: <a href=\"https://wandb.ai/youngandbin/AML-CW-1/runs/1bmnetly\" target=\"_blank\">https://wandb.ai/youngandbin/AML-CW-1/runs/1bmnetly</a><br/>Synced 6 W&B file(s), 0 media file(s), 0 artifact file(s) and 0 other file(s)"
      ],
      "text/plain": [
       "<IPython.core.display.HTML object>"
      ]
     },
     "metadata": {},
     "output_type": "display_data"
    },
    {
     "data": {
      "text/html": [
       "Find logs at: <code>.\\wandb\\run-20220324_100609-1bmnetly\\logs</code>"
      ],
      "text/plain": [
       "<IPython.core.display.HTML object>"
      ]
     },
     "metadata": {},
     "output_type": "display_data"
    },
    {
     "data": {
      "text/html": [
       "Successfully finished last run (ID:1bmnetly). Initializing new run:<br/>"
      ],
      "text/plain": [
       "<IPython.core.display.HTML object>"
      ]
     },
     "metadata": {},
     "output_type": "display_data"
    },
    {
     "data": {
      "text/html": [
       "Tracking run with wandb version 0.12.11"
      ],
      "text/plain": [
       "<IPython.core.display.HTML object>"
      ]
     },
     "metadata": {},
     "output_type": "display_data"
    },
    {
     "data": {
      "text/html": [
       "Run data is saved locally in <code>c:\\Users\\YOUNGBIN\\Documents\\Jupyter Lab\\AML\\AML-CW-1\\wandb\\run-20220324_101740-116db35t</code>"
      ],
      "text/plain": [
       "<IPython.core.display.HTML object>"
      ]
     },
     "metadata": {},
     "output_type": "display_data"
    },
    {
     "data": {
      "text/html": [
       "Syncing run <strong><a href=\"https://wandb.ai/youngandbin/AML-CW-1/runs/116db35t\" target=\"_blank\">earnest-bee-33</a></strong> to <a href=\"https://wandb.ai/youngandbin/AML-CW-1\" target=\"_blank\">Weights & Biases</a> (<a href=\"https://wandb.me/run\" target=\"_blank\">docs</a>)<br/>"
      ],
      "text/plain": [
       "<IPython.core.display.HTML object>"
      ]
     },
     "metadata": {},
     "output_type": "display_data"
    }
   ],
   "source": [
    "wandb.init(project=\"AML-CW-1\", entity=\"youngandbin\")\n",
    "wandb.config = {\n",
    "    \"model_name\": 'Decision Tree',\n",
    "    \"train_size\": [1000, 1500, 2000]\n",
    "}\n"
   ]
  },
  {
   "cell_type": "code",
   "execution_count": 48,
   "metadata": {},
   "outputs": [
    {
     "name": "stderr",
     "output_type": "stream",
     "text": [
      "  0%|          | 0/3 [00:00<?, ?it/s]"
     ]
    },
    {
     "name": "stdout",
     "output_type": "stream",
     "text": [
      "\n",
      " getting dataset... \n",
      "\n"
     ]
    },
    {
     "name": "stderr",
     "output_type": "stream",
     "text": [
      " 33%|███▎      | 1/3 [10:22<20:44, 622.47s/it]"
     ]
    },
    {
     "name": "stdout",
     "output_type": "stream",
     "text": [
      "acc: 0.06\n",
      "\n",
      " getting dataset... \n",
      "\n"
     ]
    },
    {
     "name": "stderr",
     "output_type": "stream",
     "text": [
      " 67%|██████▋   | 2/3 [47:49<26:18, 1578.26s/it]"
     ]
    },
    {
     "name": "stdout",
     "output_type": "stream",
     "text": [
      "acc: 0.04\n",
      "\n",
      " getting dataset... \n",
      "\n"
     ]
    },
    {
     "name": "stderr",
     "output_type": "stream",
     "text": [
      "100%|██████████| 3/3 [1:29:10<00:00, 1783.37s/it]"
     ]
    },
    {
     "name": "stdout",
     "output_type": "stream",
     "text": [
      "acc: 0.07\n"
     ]
    },
    {
     "name": "stderr",
     "output_type": "stream",
     "text": [
      "\n"
     ]
    }
   ],
   "source": [
    "for train_size in tqdm(wandb.config['train_size']):\n",
    "\n",
    "    X_train, y_train, X_valid, y_valid, X_test, y_test = get_data(train_size, 100, 100)\n",
    "\n",
    "    model = DecisionTree(min_samples_split=100, max_depth=3, n_feats=10)\n",
    "    # train\n",
    "    start_time = datetime.now()\n",
    "    model.fit(X_train, y_train)\n",
    "    time_train = datetime.now()-start_time\n",
    "    # test\n",
    "    start_time = datetime.now()\n",
    "    y_pred = model.predict(X_test)\n",
    "    time_test = datetime.now()-start_time\n",
    "    # runtime, accuracy\n",
    "    wandb.log({'Runtime (Train)': time_train.microseconds,\n",
    "               'Runtime (Test)': time_test.microseconds,\n",
    "                'Accuracy': accuracy_score(y_test, y_pred)})\n",
    "    print(f'acc: {accuracy_score(y_test, y_pred)}')"
   ]
  },
  {
   "cell_type": "markdown",
   "metadata": {},
   "source": [
    "## B. Hyperparameters"
   ]
  },
  {
   "cell_type": "code",
   "execution_count": 49,
   "metadata": {},
   "outputs": [],
   "source": [
    "def validate_model_DT(hyperparams, dataset, CV=True):\n",
    "\n",
    "    X_train, y_train, X_valid, y_valid, X_test, y_test = dataset\n",
    "\n",
    "    # assign hyperparams\n",
    "    param_1, param_2 = hyperparams\n",
    "\n",
    "    if CV == True:\n",
    "        # initialize final results\n",
    "        y_pred_list = []\n",
    "        y_valid_list = []\n",
    "        # cross-validation\n",
    "        X, y = X_train, y_train\n",
    "        kf = KFold(n_splits=5, shuffle=True, random_state=2022)\n",
    "        for train_idx, valid_idx in kf.split(X):\n",
    "            X_train, y_train = X[train_idx], y[train_idx]\n",
    "            X_valid, y_valid = X[valid_idx], y[valid_idx]\n",
    "            # model\n",
    "            model = DecisionTree(min_samples_split=param_1, max_depth=param_2, n_feats=10)\n",
    "            model.fit(X_train, y_train)\n",
    "            y_pred = model.predict(X_valid)\n",
    "            y_pred_list.append(y_pred)\n",
    "            y_valid_list.append(y_valid)\n",
    "        # flatten list: number of predictions = train_size = train_size/n_splits * n_splits\n",
    "        y_pred_list = [item for sublist in y_pred_list for item in sublist]\n",
    "        y_valid_list = [item for sublist in y_valid_list for item in sublist]\n",
    "        # calculate acc metric\n",
    "        acc = accuracy_score(y_valid_list, y_pred_list)\n",
    "    else:\n",
    "        # model\n",
    "        model = DecisionTree(min_samples_split=param_1, max_depth=param_2, n_feats=10)\n",
    "        model.fit(X_train, y_train)\n",
    "        y_pred = model.predict(X_valid)\n",
    "        # calculate acc metric\n",
    "        acc = accuracy_score(y_pred, y_valid)\n",
    "\n",
    "    return acc\n"
   ]
  },
  {
   "cell_type": "code",
   "execution_count": 50,
   "metadata": {},
   "outputs": [],
   "source": [
    "def create_hyperparams_grid(param_grid, model_params):\n",
    "    graph_x = []; graph_y = []; graph_z = []\n",
    "    for param_1 in param_grid['param_1']:\n",
    "        graph_x_row = []; graph_y_row = []; graph_z_row = []\n",
    "        for param_2 in param_grid['param_2']:\n",
    "            hyperparams = (param_1, param_2)\n",
    "            acc = validate_model_DT(hyperparams, model_params['dataset'], model_params['CV'])\n",
    "            graph_x_row.append(param_1)\n",
    "            graph_y_row.append(param_2)\n",
    "            graph_z_row.append(acc)\n",
    "        graph_x.append(graph_x_row)\n",
    "        graph_y.append(graph_y_row)\n",
    "        graph_z.append(graph_z_row)\n",
    "        print('')\n",
    "    graph_x=np.array(graph_x)\n",
    "    graph_y=np.array(graph_y)\n",
    "    graph_z=np.array(graph_z)\n",
    "    max_z = np.max(graph_z)\n",
    "    pos_max_z = np.argwhere(graph_z == np.max(graph_z))[0]\n",
    "    print('Maximum Accuracy: %.4f' %(max_z))\n",
    "    print('Optimum %s: %f' % (param_grid['names']['param_1'], graph_x[pos_max_z[0], pos_max_z[1]]))\n",
    "    print('Optimum %s: %f' % (param_grid['names']['param_2'], graph_y[pos_max_z[0], pos_max_z[1]]))\n",
    "    best_params = {'param_1': graph_x[pos_max_z[0], pos_max_z[1]],\n",
    "                   'param_2': graph_y[pos_max_z[0], pos_max_z[1]]}\n",
    "    return graph_x,graph_y,graph_z, best_params"
   ]
  },
  {
   "cell_type": "code",
   "execution_count": 52,
   "metadata": {},
   "outputs": [
    {
     "name": "stdout",
     "output_type": "stream",
     "text": [
      "\n",
      " getting dataset... \n",
      "\n",
      "\n",
      "\n",
      "Maximum Accuracy: 0.2000\n",
      "Optimum min_samples_split: 100.000000\n",
      "Optimum max_depth: 3.000000\n"
     ]
    },
    {
     "name": "stderr",
     "output_type": "stream",
     "text": [
      "C:\\Users\\YOUNGBIN\\AppData\\Local\\Temp\\ipykernel_29620\\3137371350.py:3: RuntimeWarning: divide by zero encountered in true_divide\n",
      "  size_list=30/(size_list)**2\n"
     ]
    },
    {
     "data": {
      "image/png": "[encoded data removed]",
      "text/plain": [
       "<Figure size 432x288 with 2 Axes>"
      ]
     },
     "metadata": {
      "needs_background": "light"
     },
     "output_type": "display_data"
    }
   ],
   "source": [
    "# validation\n",
    "\n",
    "dataset = (get_data(train_size=500, valid_size=10, test_size=10))  # tuple\n",
    "param_grid = {'param_1': [100, 150],\n",
    "              'param_2': [3, 2],\n",
    "              'names': {'param_1': 'min_samples_split', 'param_2': 'max_depth'}}\n",
    "model_params = {'dataset': dataset, 'CV': False}\n",
    "best_params_V = main()\n"
   ]
  },
  {
   "cell_type": "code",
   "execution_count": 53,
   "metadata": {},
   "outputs": [
    {
     "name": "stdout",
     "output_type": "stream",
     "text": [
      "\n",
      "\n",
      "Maximum Accuracy: 0.1280\n",
      "Optimum min_samples_split: 100.000000\n",
      "Optimum max_depth: 2.000000\n"
     ]
    },
    {
     "data": {
      "image/png": "[encoded data removed]",
      "text/plain": [
       "<Figure size 432x288 with 2 Axes>"
      ]
     },
     "metadata": {
      "needs_background": "light"
     },
     "output_type": "display_data"
    }
   ],
   "source": [
    "# cross-validation\n",
    "\n",
    "model_params['CV'] = True\n",
    "best_params_CV = main()\n"
   ]
  },
  {
   "cell_type": "code",
   "execution_count": 59,
   "metadata": {},
   "outputs": [
    {
     "name": "stdout",
     "output_type": "stream",
     "text": [
      "\n",
      " getting dataset... \n",
      "\n",
      "acc: 0.16\n",
      "acc: 0.08\n"
     ]
    }
   ],
   "source": [
    "# final test\n",
    "\n",
    "X_train, y_train, X_valid, y_valid, X_test, y_test = get_data(train_size=500, valid_size=50, test_size=50)\n",
    "\n",
    "# validation\n",
    "model = DecisionTree(min_samples_split=best_params_V['param_1'], max_depth=best_params_V['param_2'], n_feats=10)\n",
    "model.fit(X_train, y_train)\n",
    "y_pred = model.predict(X_test)\n",
    "print(f'acc: {accuracy_score(y_test, y_pred)}')\n",
    "\n",
    "# cross-validation\n",
    "model = DecisionTree(min_samples_split=best_params_CV['param_1'], max_depth=best_params_CV['param_2'], n_feats=10)\n",
    "model.fit(X_train, y_train)\n",
    "y_pred = model.predict(X_test)\n",
    "print(f'acc: {accuracy_score(y_test, y_pred)}')\n"
   ]
  },
  {
   "cell_type": "markdown",
   "metadata": {},
   "source": [
    "# 4.. Random Forest"
   ]
  },
  {
   "cell_type": "code",
   "execution_count": 9,
   "metadata": {},
   "outputs": [],
   "source": [
    "def bootstrapping(X, y):\n",
    "    indices = np.random.choice(X.shape[0], size=X.shape[0], replace=True)\n",
    "    return X[indices], y[indices]"
   ]
  },
  {
   "cell_type": "code",
   "execution_count": 10,
   "metadata": {},
   "outputs": [],
   "source": [
    "class RandomForest: \n",
    "\n",
    "    def __init__(self, n_trees=10, min_samples_split=2, max_depth=100, n_feats=None):\n",
    "        self.n_trees = n_trees\n",
    "        self.min_samples_split = min_samples_split\n",
    "        self.max_depth = max_depth\n",
    "        self.n_feats = n_feats\n",
    "        self.forest = []\n",
    "\n",
    "    def fit(self, X, y):\n",
    "        self.forest = []\n",
    "        for t in range(self.n_trees):\n",
    "            tree = DecisionTree(min_samples_split=self.min_samples_split,\n",
    "                                max_depth=self.max_depth, n_feats=self.n_feats)\n",
    "            X_s, y_s = bootstrapping(X, y)\n",
    "            tree.fit(X_s, y_s)\n",
    "            self.forest.append(tree)\n",
    "\n",
    "    def predict(self, X):\n",
    "        forest_preds = np.array([tree.predict(X) for tree in self.forest])\n",
    "        # majority vote\n",
    "        forest_preds = np.swapaxes(forest_preds, 0, 1)\n",
    "        y_pred = np.array([np.bincount(pred).argmax()\n",
    "                          for pred in forest_preds])\n",
    "        return y_pred\n"
   ]
  },
  {
   "cell_type": "code",
   "execution_count": 11,
   "metadata": {},
   "outputs": [
    {
     "name": "stdout",
     "output_type": "stream",
     "text": [
      "\n",
      " getting dataset... \n",
      "\n"
     ]
    },
    {
     "data": {
      "text/plain": [
       "0.02"
      ]
     },
     "execution_count": 11,
     "metadata": {},
     "output_type": "execute_result"
    }
   ],
   "source": [
    "# test run\n",
    "\n",
    "X_train, y_train, X_valid, y_valid, X_test, y_test = get_data(train_size=500, valid_size=50, test_size=50)\n",
    "\n",
    "# model\n",
    "model = RandomForest(n_trees=2, min_samples_split=100, max_depth=2, n_feats=5)\n",
    "model.fit(X_train, y_train)\n",
    "y_pred = model.predict(X_test)\n",
    "# calculate acc metric\n",
    "acc = accuracy_score(y_pred, y_test)\n",
    "acc\n"
   ]
  },
  {
   "cell_type": "code",
   "execution_count": null,
   "metadata": {},
   "outputs": [],
   "source": []
  },
  {
   "cell_type": "markdown",
   "metadata": {},
   "source": [
    "## A. Runtime & Accuracy"
   ]
  },
  {
   "cell_type": "code",
   "execution_count": 62,
   "metadata": {},
   "outputs": [
    {
     "data": {
      "text/html": [
       "Finishing last run (ID:116db35t) before initializing another..."
      ],
      "text/plain": [
       "<IPython.core.display.HTML object>"
      ]
     },
     "metadata": {},
     "output_type": "display_data"
    },
    {
     "name": "stdout",
     "output_type": "stream",
     "text": [
      "\n"
     ]
    },
    {
     "data": {
      "text/html": [
       "Waiting for W&B process to finish... <strong style=\"color:green\">(success).</strong>"
      ],
      "text/plain": [
       "<IPython.core.display.HTML object>"
      ]
     },
     "metadata": {},
     "output_type": "display_data"
    },
    {
     "data": {
      "text/html": [
       "<style>\n",
       "    table.wandb td:nth-child(1) { padding: 0 10px; text-align: right }\n",
       "    .wandb-row { display: flex; flex-direction: row; flex-wrap: wrap; width: 100% }\n",
       "    .wandb-col { display: flex; flex-direction: column; flex-basis: 100%; flex: 1; padding: 10px; }\n",
       "    </style>\n",
       "<div class=\"wandb-row\"><div class=\"wandb-col\"><h3>Run history:</h3><br/><table class=\"wandb\"><tr><td>Accuracy</td><td>▆▁█</td></tr><tr><td>Runtime (Test)</td><td>██▁</td></tr><tr><td>Runtime (Train)</td><td>█▃▁</td></tr></table><br/></div><div class=\"wandb-col\"><h3>Run summary:</h3><br/><table class=\"wandb\"><tr><td>Accuracy</td><td>0.07</td></tr><tr><td>Runtime (Test)</td><td>3003</td></tr><tr><td>Runtime (Train)</td><td>112440</td></tr></table><br/></div></div>"
      ],
      "text/plain": [
       "<IPython.core.display.HTML object>"
      ]
     },
     "metadata": {},
     "output_type": "display_data"
    },
    {
     "data": {
      "text/html": [
       "Synced <strong style=\"color:#cdcd00\">earnest-bee-33</strong>: <a href=\"https://wandb.ai/youngandbin/AML-CW-1/runs/116db35t\" target=\"_blank\">https://wandb.ai/youngandbin/AML-CW-1/runs/116db35t</a><br/>Synced 6 W&B file(s), 0 media file(s), 0 artifact file(s) and 0 other file(s)"
      ],
      "text/plain": [
       "<IPython.core.display.HTML object>"
      ]
     },
     "metadata": {},
     "output_type": "display_data"
    },
    {
     "data": {
      "text/html": [
       "Find logs at: <code>.\\wandb\\run-20220324_101740-116db35t\\logs</code>"
      ],
      "text/plain": [
       "<IPython.core.display.HTML object>"
      ]
     },
     "metadata": {},
     "output_type": "display_data"
    },
    {
     "data": {
      "text/html": [
       "Successfully finished last run (ID:116db35t). Initializing new run:<br/>"
      ],
      "text/plain": [
       "<IPython.core.display.HTML object>"
      ]
     },
     "metadata": {},
     "output_type": "display_data"
    },
    {
     "data": {
      "text/html": [
       "Tracking run with wandb version 0.12.11"
      ],
      "text/plain": [
       "<IPython.core.display.HTML object>"
      ]
     },
     "metadata": {},
     "output_type": "display_data"
    },
    {
     "data": {
      "text/html": [
       "Run data is saved locally in <code>c:\\Users\\YOUNGBIN\\Documents\\Jupyter Lab\\AML\\AML-CW-1\\wandb\\run-20220324_134059-5z6fmhby</code>"
      ],
      "text/plain": [
       "<IPython.core.display.HTML object>"
      ]
     },
     "metadata": {},
     "output_type": "display_data"
    },
    {
     "data": {
      "text/html": [
       "Syncing run <strong><a href=\"https://wandb.ai/youngandbin/AML-CW-1/runs/5z6fmhby\" target=\"_blank\">deft-bee-34</a></strong> to <a href=\"https://wandb.ai/youngandbin/AML-CW-1\" target=\"_blank\">Weights & Biases</a> (<a href=\"https://wandb.me/run\" target=\"_blank\">docs</a>)<br/>"
      ],
      "text/plain": [
       "<IPython.core.display.HTML object>"
      ]
     },
     "metadata": {},
     "output_type": "display_data"
    }
   ],
   "source": [
    "wandb.init(project=\"AML-CW-1\", entity=\"youngandbin\")\n",
    "wandb.config = {\n",
    "    \"model_name\": 'Random Forest',\n",
    "    \"train_size\": [500, 600, 700]\n",
    "}"
   ]
  },
  {
   "cell_type": "code",
   "execution_count": 63,
   "metadata": {},
   "outputs": [
    {
     "name": "stderr",
     "output_type": "stream",
     "text": [
      "  0%|          | 0/3 [00:00<?, ?it/s]"
     ]
    },
    {
     "name": "stdout",
     "output_type": "stream",
     "text": [
      "\n",
      " getting dataset... \n",
      "\n"
     ]
    },
    {
     "name": "stderr",
     "output_type": "stream",
     "text": [
      " 33%|███▎      | 1/3 [03:27<06:54, 207.39s/it]"
     ]
    },
    {
     "name": "stdout",
     "output_type": "stream",
     "text": [
      "acc: 0.14\n",
      "\n",
      " getting dataset... \n",
      "\n"
     ]
    },
    {
     "name": "stderr",
     "output_type": "stream",
     "text": [
      " 67%|██████▋   | 2/3 [07:45<03:57, 237.27s/it]"
     ]
    },
    {
     "name": "stdout",
     "output_type": "stream",
     "text": [
      "acc: 0.22\n",
      "\n",
      " getting dataset... \n",
      "\n"
     ]
    },
    {
     "name": "stderr",
     "output_type": "stream",
     "text": [
      "100%|██████████| 3/3 [13:25<00:00, 268.44s/it]"
     ]
    },
    {
     "name": "stdout",
     "output_type": "stream",
     "text": [
      "acc: 0.04\n"
     ]
    },
    {
     "name": "stderr",
     "output_type": "stream",
     "text": [
      "\n"
     ]
    }
   ],
   "source": [
    "for train_size in tqdm(wandb.config['train_size']):\n",
    "\n",
    "    X_train, y_train, X_valid, y_valid, X_test, y_test = get_data(train_size, 50, 50)\n",
    "\n",
    "    model = RandomForest(n_trees=2, min_samples_split=10, max_depth=3, n_feats=5)\n",
    "    # train\n",
    "    start_time = datetime.now()\n",
    "    model.fit(X_train, y_train)\n",
    "    time_train = datetime.now()-start_time\n",
    "    # test\n",
    "    start_time = datetime.now()\n",
    "    y_pred = model.predict(X_test)\n",
    "    time_test = datetime.now()-start_time\n",
    "    # runtime, accuracy\n",
    "    wandb.log({'Runtime (Train)': time_train.microseconds,\n",
    "               'Runtime (Test)': time_test.microseconds,\n",
    "                'Accuracy': accuracy_score(y_test, y_pred)})\n",
    "    print(f'acc: {accuracy_score(y_test, y_pred)}')"
   ]
  },
  {
   "cell_type": "markdown",
   "metadata": {},
   "source": [
    "## B. Hyperparameters"
   ]
  },
  {
   "cell_type": "code",
   "execution_count": 64,
   "metadata": {},
   "outputs": [],
   "source": [
    "def validate_model_RF(hyperparams, dataset, CV=True):\n",
    "\n",
    "    X_train, y_train, X_valid, y_valid, X_test, y_test = dataset\n",
    "\n",
    "    # assign hyperparams\n",
    "    param_1, param_2 = hyperparams\n",
    "\n",
    "    if CV == True:\n",
    "        # initialize final results\n",
    "        y_pred_list = []\n",
    "        y_valid_list = []\n",
    "        # cross-validation\n",
    "        X, y = X_train, y_train\n",
    "        kf = KFold(n_splits=5, shuffle=True, random_state=2022)\n",
    "        for train_idx, valid_idx in kf.split(X):\n",
    "            X_train, y_train = X[train_idx], y[train_idx]\n",
    "            X_valid, y_valid = X[valid_idx], y[valid_idx]\n",
    "            # model\n",
    "            model = RandomForest(n_trees=2, min_samples_split=param_1, max_depth=param_2, n_feats=5)\n",
    "            model.fit(X_train, y_train)\n",
    "            y_pred = model.predict(X_valid)\n",
    "            y_pred_list.append(y_pred)\n",
    "            y_valid_list.append(y_valid)\n",
    "        # flatten list: number of predictions = train_size = train_size/n_splits * n_splits\n",
    "        y_pred_list = [item for sublist in y_pred_list for item in sublist]\n",
    "        y_valid_list = [item for sublist in y_valid_list for item in sublist]\n",
    "        # calculate acc metric\n",
    "        acc = accuracy_score(y_valid_list, y_pred_list)\n",
    "    else:\n",
    "        # model\n",
    "        model = RandomForest(n_trees=2, min_samples_split=param_1, max_depth=param_2, n_feats=5)\n",
    "        model.fit(X_train, y_train)\n",
    "        y_pred = model.predict(X_valid)\n",
    "        # calculate acc metric\n",
    "        acc = accuracy_score(y_pred, y_valid)\n",
    "\n",
    "    return acc\n"
   ]
  },
  {
   "cell_type": "code",
   "execution_count": 65,
   "metadata": {},
   "outputs": [],
   "source": [
    "def create_hyperparams_grid(param_grid, model_params):\n",
    "    graph_x = []; graph_y = []; graph_z = []\n",
    "    for param_1 in param_grid['param_1']:\n",
    "        graph_x_row = []; graph_y_row = []; graph_z_row = []\n",
    "        for param_2 in param_grid['param_2']:\n",
    "            hyperparams = (param_1, param_2)\n",
    "            acc = validate_model_RF(hyperparams, model_params['dataset'], model_params['CV'])\n",
    "            graph_x_row.append(param_1)\n",
    "            graph_y_row.append(param_2)\n",
    "            graph_z_row.append(acc)\n",
    "        graph_x.append(graph_x_row)\n",
    "        graph_y.append(graph_y_row)\n",
    "        graph_z.append(graph_z_row)\n",
    "        print('')\n",
    "    graph_x=np.array(graph_x)\n",
    "    graph_y=np.array(graph_y)\n",
    "    graph_z=np.array(graph_z)\n",
    "    max_z = np.max(graph_z)\n",
    "    pos_max_z = np.argwhere(graph_z == np.max(graph_z))[0]\n",
    "    print('Maximum Accuracy: %.4f' %(max_z))\n",
    "    print('Optimum %s: %f' % (param_grid['names']['param_1'], graph_x[pos_max_z[0], pos_max_z[1]]))\n",
    "    print('Optimum %s: %f' % (param_grid['names']['param_2'], graph_y[pos_max_z[0], pos_max_z[1]]))\n",
    "    best_params = {'param_1': graph_x[pos_max_z[0], pos_max_z[1]],\n",
    "                   'param_2': graph_y[pos_max_z[0], pos_max_z[1]]}\n",
    "    return graph_x,graph_y,graph_z, best_params"
   ]
  },
  {
   "cell_type": "code",
   "execution_count": 67,
   "metadata": {},
   "outputs": [
    {
     "name": "stdout",
     "output_type": "stream",
     "text": [
      "\n",
      " getting dataset... \n",
      "\n",
      "\n"
     ]
    },
    {
     "name": "stderr",
     "output_type": "stream",
     "text": [
      "C:\\Users\\YOUNGBIN\\AppData\\Local\\Temp\\ipykernel_29620\\3137371350.py:3: RuntimeWarning: divide by zero encountered in true_divide\n",
      "  size_list=30/(size_list)**2\n",
      "Exception ignored in: <function _MultiProcessingDataLoaderIter.__del__ at 0x000001F0F9023310>\n",
      "Traceback (most recent call last):\n",
      "  File \"C:\\Users\\YOUNGBIN\\anaconda3\\envs\\AML\\lib\\site-packages\\torch\\utils\\data\\dataloader.py\", line 1328, in __del__\n",
      "    self._shutdown_workers()\n",
      "  File \"C:\\Users\\YOUNGBIN\\anaconda3\\envs\\AML\\lib\\site-packages\\torch\\utils\\data\\dataloader.py\", line 1295, in _shutdown_workers\n",
      "    if self._persistent_workers or self._workers_status[worker_id]:\n",
      "AttributeError: '_MultiProcessingDataLoaderIter' object has no attribute '_workers_status'\n"
     ]
    },
    {
     "name": "stdout",
     "output_type": "stream",
     "text": [
      "\n",
      "Maximum Accuracy: 0.2000\n",
      "Optimum min_samples_split: 100.000000\n",
      "Optimum max_depth: 2.000000\n"
     ]
    },
    {
     "data": {
      "image/png": "[encoded data removed]",
      "text/plain": [
       "<Figure size 432x288 with 2 Axes>"
      ]
     },
     "metadata": {
      "needs_background": "light"
     },
     "output_type": "display_data"
    }
   ],
   "source": [
    "# validation\n",
    "\n",
    "dataset = (get_data(train_size=500, valid_size=10, test_size=10))  # tuple\n",
    "\n",
    "param_grid = {'param_1': [100, 150],\n",
    "              'param_2': [2, 3],\n",
    "              'names': {'param_1': 'min_samples_split', 'param_2': 'max_depth'}}\n",
    "model_params = {'dataset': dataset, 'CV': False}\n",
    "best_params_V = main()\n"
   ]
  },
  {
   "cell_type": "code",
   "execution_count": 68,
   "metadata": {},
   "outputs": [
    {
     "name": "stdout",
     "output_type": "stream",
     "text": [
      "\n",
      "\n",
      "Maximum Accuracy: 0.1200\n",
      "Optimum min_samples_split: 100.000000\n",
      "Optimum max_depth: 2.000000\n"
     ]
    },
    {
     "data": {
      "image/png": "[encoded data removed]",
      "text/plain": [
       "<Figure size 432x288 with 2 Axes>"
      ]
     },
     "metadata": {
      "needs_background": "light"
     },
     "output_type": "display_data"
    }
   ],
   "source": [
    "# cross-validation\n",
    "\n",
    "model_params['CV'] = True\n",
    "best_params_CV = main()\n"
   ]
  },
  {
   "cell_type": "code",
   "execution_count": 69,
   "metadata": {},
   "outputs": [
    {
     "name": "stdout",
     "output_type": "stream",
     "text": [
      "\n",
      " getting dataset... \n",
      "\n"
     ]
    }
   ],
   "source": [
    "# final test\n",
    "\n",
    "#X_train, y_train, X_valid, y_valid, X_test, y_test = dataset\n",
    "X_train, y_train, X_valid, y_valid, X_test, y_test = get_data(train_size=500, valid_size=50, test_size=50)\n",
    "\n",
    "# validation\n",
    "model = RandomForest(n_trees=2, min_samples_split=best_params_V['param_1'], max_depth=best_params_V['param_2'], n_feats=5)\n",
    "model.fit(X_train, y_train)\n",
    "y_pred = model.predict(X_test)\n",
    "print(f'acc: {accuracy_score(y_test, y_pred)}')\n",
    "\n",
    "# cross-validation\n",
    "model = RandomForest(n_trees=2, min_samples_split=best_params_V['param_1'], max_depth=best_params_V['param_2'], n_feats=5)\n",
    "model.fit(X_train, y_train)\n",
    "y_pred = model.predict(X_test)\n",
    "print(f'acc: {accuracy_score(y_test, y_pred)}')\n"
   ]
  },
  {
   "cell_type": "code",
   "execution_count": 10,
   "metadata": {},
   "outputs": [
    {
     "name": "stdout",
     "output_type": "stream",
     "text": [
      "\n",
      " getting dataset... \n",
      "\n",
      "acc: 0.08\n",
      "acc: 0.12\n"
     ]
    }
   ],
   "source": [
    "# final test\n",
    "\n",
    "#X_train, y_train, X_valid, y_valid, X_test, y_test = dataset\n",
    "X_train, y_train, X_valid, y_valid, X_test, y_test = get_data(\n",
    "    train_size=500, valid_size=50, test_size=50)\n",
    "\n",
    "# validation\n",
    "model = RandomForest(\n",
    "    n_trees=2, min_samples_split=100, max_depth=2, n_feats=5)\n",
    "model.fit(X_train, y_train)\n",
    "y_pred = model.predict(X_test)\n",
    "print(f'acc: {accuracy_score(y_test, y_pred)}')\n",
    "\n",
    "# cross-validation\n",
    "model = RandomForest(\n",
    "    n_trees=2, min_samples_split=100, max_depth=2, n_feats=5)\n",
    "model.fit(X_train, y_train)\n",
    "y_pred = model.predict(X_test)\n",
    "print(f'acc: {accuracy_score(y_test, y_pred)}')\n"
   ]
  },
  {
   "cell_type": "code",
   "execution_count": null,
   "metadata": {},
   "outputs": [],
   "source": []
  }
 ],
 "metadata": {
  "interpreter": {
   "hash": "2f37873089bc99999a4c22445a6971dc9322bb05dc63dba22dd50e8a2bf7bc1c"
  },
  "kernelspec": {
   "display_name": "Python 3.8.12 ('AML')",
   "language": "python",
   "name": "python3"
  },
  "language_info": {
   "codemirror_mode": {
    "name": "ipython",
    "version": 3
   },
   "file_extension": ".py",
   "mimetype": "text/x-python",
   "name": "python",
   "nbconvert_exporter": "python",
   "pygments_lexer": "ipython3",
   "version": "3.8.12"
  },
  "orig_nbformat": 4
 },
 "nbformat": 4,
 "nbformat_minor": 2
}
